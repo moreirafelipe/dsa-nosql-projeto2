{
 "cells": [
  {
   "cell_type": "markdown",
   "metadata": {},
   "source": [
    "##  Data Science Academy\n",
    "\n",
    "## Modelagem de Bancos de Dados Relacionais, Não Relacionais e Data Stores\n",
    "\n",
    "## Modelagem de Bancos de Dados Não Relacionais\n",
    "\n",
    "## Processo ETL"
   ]
  },
  {
   "cell_type": "code",
   "execution_count": 1,
   "metadata": {},
   "outputs": [],
   "source": [
    "# Instala o cassandra driver\n",
    "# https://pypi.org/project/cassandra-driver/\n",
    "!pip install -q cassandra-driver"
   ]
  },
  {
   "cell_type": "code",
   "execution_count": 2,
   "metadata": {},
   "outputs": [],
   "source": [
    "# Imports\n",
    "from cassandra.cluster import Cluster"
   ]
  },
  {
   "cell_type": "code",
   "execution_count": 3,
   "metadata": {},
   "outputs": [],
   "source": [
    "# Define o cluster\n",
    "cluster = Cluster(['localhost']) "
   ]
  },
  {
   "cell_type": "code",
   "execution_count": 4,
   "metadata": {},
   "outputs": [],
   "source": [
    "# Define a session\n",
    "session = cluster.connect('projeto2')"
   ]
  },
  {
   "cell_type": "code",
   "execution_count": 5,
   "metadata": {},
   "outputs": [],
   "source": [
    "# Testa o acesso\n",
    "linhas = session.execute('select * from TB_CONSULTA1 limit 5;')\n",
    "for linha in linhas:\n",
    "    print (linha)"
   ]
  },
  {
   "cell_type": "code",
   "execution_count": 6,
   "metadata": {},
   "outputs": [],
   "source": [
    "# Variáveis de controle\n",
    "cassandra_keyspace = \"projeto2\""
   ]
  },
  {
   "cell_type": "markdown",
   "metadata": {},
   "source": [
    "## Carregando os Dados"
   ]
  },
  {
   "cell_type": "code",
   "execution_count": 7,
   "metadata": {},
   "outputs": [],
   "source": [
    "# Dataset de clientes\n",
    "df_clientes = spark.read.csv(\"/home/dmpm/Projeto2/dados/Clientes.csv\", header = True, inferSchema = True)"
   ]
  },
  {
   "cell_type": "code",
   "execution_count": 8,
   "metadata": {},
   "outputs": [
    {
     "name": "stdout",
     "output_type": "stream",
     "text": [
      "+----------+-------------------+--------------------+---------------+-----------+--------------------+--------------------+-----------------+------------+--------------------+--------+------+-----+\n",
      "|ID_Cliente|               Nome|            Endereco|Data_Nascimento|     Cidade|       Data_Cadastro|               Email|         Latitude|   Longitude|               Senha|   Fonte|Estado|  Zip|\n",
      "+----------+-------------------+--------------------+---------------+-----------+--------------------+--------------------+-----------------+------------+--------------------+--------+------+-----+\n",
      "|         1|       Hudson Borer|9611-9809 West Ro...|     1986-12-12| Wood River|2017-10-06 13:04:...|borer-hudson@test...|40.71314890000001| -98.5259864|ccca881f-3e4b-4e5...| Twitter|    SP|68883|\n",
      "|         2|Domenica Williamson|      101 4th Street|     1967-06-10|  Searsboro|2018-04-08 23:40:...|williamson-domeni...|       41.5813224| -92.6991321|eafc45bf-cf8e-4c9...|Afiliado|    SC|50242|\n",
      "|         3|        Lina Heaney|29494 Anderson Drive|     1961-12-18|  Sandstone|2017-06-26 17:36:...|lina.heaney@teste...|46.11973039999999| -92.8416108|36f67891-34e5-443...|Facebook|    DF|55072|\n",
      "|         4|       Arnold Adams|2-7900 Cuerno Ver...|     1992-08-12|        Rye|2019-02-21 00:29:...|adams.arnold@test...|       37.9202933|-104.9726909|537a727b-7525-44a...|  Google|    PI|81069|\n",
      "|         5|  Dominique Leffler|  761 Fish Hill Road|     1974-04-20|Beaver Dams|2017-09-04 15:06:...|leffler.dominique...|        42.348954|  -77.056681|6a802b6c-4da8-488...| Twitter|    SE|14812|\n",
      "+----------+-------------------+--------------------+---------------+-----------+--------------------+--------------------+-----------------+------------+--------------------+--------+------+-----+\n",
      "only showing top 5 rows\n",
      "\n"
     ]
    }
   ],
   "source": [
    "df_clientes.show(5)"
   ]
  },
  {
   "cell_type": "code",
   "execution_count": 9,
   "metadata": {},
   "outputs": [],
   "source": [
    "# Dataset de pedidos\n",
    "df_pedidos = spark.read.csv(\"/home/dmpm/Projeto2/dados/Pedidos.csv\", header = True, inferSchema = True)"
   ]
  },
  {
   "cell_type": "code",
   "execution_count": 10,
   "metadata": {},
   "outputs": [
    {
     "name": "stdout",
     "output_type": "stream",
     "text": [
      "+---------+--------------------+-----------------+----------+----------+------------------+-------+------------------+----------+\n",
      "|ID_Pedido|         Data_Pedido|         Desconto|ID_Produto|Quantidade|          Subtotal|Imposto|             Total|ID_Cliente|\n",
      "+---------+--------------------+-----------------+----------+----------+------------------+-------+------------------+----------+\n",
      "|        1|2019-02-11 08:10:...|             null|        14|         2|37.648145389078365|   2.07|39.718145389078366|         1|\n",
      "|        2|2018-05-14 19:34:...|             null|       123|         3|110.93145648834248|    6.1| 117.0376564084763|         1|\n",
      "|        3|2019-12-06 08:52:...|6.416679208849759|       105|         2|52.723521442619514|    2.9| 55.62208681964182|         1|\n",
      "|        4|2019-08-22 04:00:...|             null|        94|         6|109.21864156655383|   6.01| 115.2207354961295|         1|\n",
      "|        5|2018-10-09 15:04:...|             null|       132|         5|127.88197029833711|   7.03|134.94192935296473|         1|\n",
      "+---------+--------------------+-----------------+----------+----------+------------------+-------+------------------+----------+\n",
      "only showing top 5 rows\n",
      "\n"
     ]
    }
   ],
   "source": [
    "df_pedidos.show(5)"
   ]
  },
  {
   "cell_type": "markdown",
   "metadata": {},
   "source": [
    "## Junção das Tabelas"
   ]
  },
  {
   "cell_type": "code",
   "execution_count": 11,
   "metadata": {},
   "outputs": [],
   "source": [
    "# Converte os dados\n",
    "for i in df_clientes.columns:\n",
    "    df_clientes = df_clientes.withColumnRenamed(i, i.lower())"
   ]
  },
  {
   "cell_type": "code",
   "execution_count": 12,
   "metadata": {},
   "outputs": [],
   "source": [
    "# Converte os dados\n",
    "for i in df_pedidos.columns:\n",
    "    df_pedidos = df_pedidos.withColumnRenamed(i, i.lower())"
   ]
  },
  {
   "cell_type": "code",
   "execution_count": 13,
   "metadata": {},
   "outputs": [],
   "source": [
    "# Fazendo o Join das tabelas\n",
    "df_join = df_pedidos.join(df_clientes, df_pedidos.id_cliente == df_clientes.id_cliente, how = 'inner')"
   ]
  },
  {
   "cell_type": "code",
   "execution_count": 14,
   "metadata": {},
   "outputs": [
    {
     "name": "stdout",
     "output_type": "stream",
     "text": [
      "root\n",
      " |-- id_pedido: integer (nullable = true)\n",
      " |-- data_pedido: timestamp (nullable = true)\n",
      " |-- desconto: double (nullable = true)\n",
      " |-- id_produto: integer (nullable = true)\n",
      " |-- quantidade: integer (nullable = true)\n",
      " |-- subtotal: double (nullable = true)\n",
      " |-- imposto: double (nullable = true)\n",
      " |-- total: double (nullable = true)\n",
      " |-- id_cliente: integer (nullable = true)\n",
      " |-- id_cliente: integer (nullable = true)\n",
      " |-- nome: string (nullable = true)\n",
      " |-- endereco: string (nullable = true)\n",
      " |-- data_nascimento: string (nullable = true)\n",
      " |-- cidade: string (nullable = true)\n",
      " |-- data_cadastro: timestamp (nullable = true)\n",
      " |-- email: string (nullable = true)\n",
      " |-- latitude: double (nullable = true)\n",
      " |-- longitude: double (nullable = true)\n",
      " |-- senha: string (nullable = true)\n",
      " |-- fonte: string (nullable = true)\n",
      " |-- estado: string (nullable = true)\n",
      " |-- zip: integer (nullable = true)\n",
      "\n"
     ]
    }
   ],
   "source": [
    "# Schema\n",
    "df_join.printSchema()"
   ]
  },
  {
   "cell_type": "markdown",
   "metadata": {},
   "source": [
    "## Agregações"
   ]
  },
  {
   "cell_type": "code",
   "execution_count": 15,
   "metadata": {},
   "outputs": [],
   "source": [
    "from pyspark.sql.functions import col"
   ]
  },
  {
   "cell_type": "code",
   "execution_count": 16,
   "metadata": {},
   "outputs": [],
   "source": [
    "# Agregação da consulta 1\n",
    "df_consulta1 = df_join.groupBy('fonte') \\\n",
    ".agg({'total':'sum'}).select('fonte', col('sum(total)').alias('total_vendas'))"
   ]
  },
  {
   "cell_type": "code",
   "execution_count": 17,
   "metadata": {},
   "outputs": [
    {
     "name": "stdout",
     "output_type": "stream",
     "text": [
      "+--------+-----------------+\n",
      "|   fonte|     total_vendas|\n",
      "+--------+-----------------+\n",
      "| Twitter|319448.7269814239|\n",
      "|Afiliado|297605.2749875903|\n",
      "|  Google|325183.5607881129|\n",
      "|Organico|319637.0497447002|\n",
      "|Facebook|333453.5126582293|\n",
      "+--------+-----------------+\n",
      "\n"
     ]
    }
   ],
   "source": [
    "df_consulta1.show(5)"
   ]
  },
  {
   "cell_type": "code",
   "execution_count": 18,
   "metadata": {},
   "outputs": [],
   "source": [
    "# Agregação da consulta 2\n",
    "df_consulta2 = df_join.groupBy('estado') \\\n",
    ".agg({'total':'sum'}).select('estado', col('sum(total)').alias('total_vendas'))"
   ]
  },
  {
   "cell_type": "code",
   "execution_count": 19,
   "metadata": {},
   "outputs": [
    {
     "name": "stdout",
     "output_type": "stream",
     "text": [
      "+------+------------------+\n",
      "|estado|      total_vendas|\n",
      "+------+------------------+\n",
      "|    SC|  78672.3796432496|\n",
      "|    PI|60885.920881314254|\n",
      "|    AM| 32415.70034927819|\n",
      "|    NJ| 6768.687499559493|\n",
      "|    RR| 35598.05678620004|\n",
      "+------+------------------+\n",
      "only showing top 5 rows\n",
      "\n"
     ]
    }
   ],
   "source": [
    "df_consulta2.show(5)"
   ]
  },
  {
   "cell_type": "code",
   "execution_count": 20,
   "metadata": {},
   "outputs": [],
   "source": [
    "# Agregação da consulta 3\n",
    "df_consulta3 = df_join.groupBy('estado', 'data_pedido') \\\n",
    ".agg({'desconto':'avg'}).select('estado', 'data_pedido', col('avg(desconto)').alias('media_desconto'))"
   ]
  },
  {
   "cell_type": "code",
   "execution_count": 21,
   "metadata": {},
   "outputs": [
    {
     "name": "stdout",
     "output_type": "stream",
     "text": [
      "+------+--------------------+-----------------+\n",
      "|estado|         data_pedido|   media_desconto|\n",
      "+------+--------------------+-----------------+\n",
      "|    AL|2018-04-28 06:18:...|6.012432951799443|\n",
      "|    PE|2019-12-27 06:51:...|             null|\n",
      "|    MT|2019-07-11 16:32:...|             null|\n",
      "|    WV|2020-03-24 07:56:...|             null|\n",
      "|    DF|2020-03-07 23:58:...|             null|\n",
      "|    PR|2018-09-29 02:19:...|             null|\n",
      "|    SC|2019-07-23 05:19:...|             null|\n",
      "|    BA|2018-02-07 00:52:...|             null|\n",
      "|    IL|2018-11-11 04:21:...|             null|\n",
      "|    IL|2020-03-22 02:11:...|             null|\n",
      "|    MS|2018-09-14 15:39:...|             null|\n",
      "|    SC|2018-05-06 02:05:...|             null|\n",
      "|    AP|2020-02-24 05:33:...|             null|\n",
      "|    MT|2019-11-12 20:24:...|             null|\n",
      "|    TN|2018-05-01 21:01:...|             null|\n",
      "+------+--------------------+-----------------+\n",
      "only showing top 15 rows\n",
      "\n"
     ]
    }
   ],
   "source": [
    "df_consulta3.show(15)"
   ]
  },
  {
   "cell_type": "markdown",
   "metadata": {},
   "source": [
    "## Limpeza dos Dados"
   ]
  },
  {
   "cell_type": "code",
   "execution_count": 22,
   "metadata": {},
   "outputs": [],
   "source": [
    "from pyspark.sql.functions import to_date"
   ]
  },
  {
   "cell_type": "code",
   "execution_count": 23,
   "metadata": {},
   "outputs": [],
   "source": [
    "# Ajusta a coluna de data\n",
    "df_join = df_join.withColumn('data_pedido', to_date(df_join.data_pedido, 'yyyy-MM-dd'))"
   ]
  },
  {
   "cell_type": "code",
   "execution_count": 24,
   "metadata": {},
   "outputs": [
    {
     "name": "stdout",
     "output_type": "stream",
     "text": [
      "+---------+-----------+-----------------+----------+----------+------------------+-------+------------------+----------+----------+------------+--------------------+---------------+----------+--------------------+--------------------+-----------------+-----------+--------------------+-------+------+-----+\n",
      "|id_pedido|data_pedido|         desconto|id_produto|quantidade|          subtotal|imposto|             total|id_cliente|id_cliente|        nome|            endereco|data_nascimento|    cidade|       data_cadastro|               email|         latitude|  longitude|               senha|  fonte|estado|  zip|\n",
      "+---------+-----------+-----------------+----------+----------+------------------+-------+------------------+----------+----------+------------+--------------------+---------------+----------+--------------------+--------------------+-----------------+-----------+--------------------+-------+------+-----+\n",
      "|        1| 2019-02-11|             null|        14|         2|37.648145389078365|   2.07|39.718145389078366|         1|         1|Hudson Borer|9611-9809 West Ro...|     1986-12-12|Wood River|2017-10-06 13:04:...|borer-hudson@test...|40.71314890000001|-98.5259864|ccca881f-3e4b-4e5...|Twitter|    SP|68883|\n",
      "|        2| 2018-05-14|             null|       123|         3|110.93145648834248|    6.1| 117.0376564084763|         1|         1|Hudson Borer|9611-9809 West Ro...|     1986-12-12|Wood River|2017-10-06 13:04:...|borer-hudson@test...|40.71314890000001|-98.5259864|ccca881f-3e4b-4e5...|Twitter|    SP|68883|\n",
      "|        3| 2019-12-06|6.416679208849759|       105|         2|52.723521442619514|    2.9| 55.62208681964182|         1|         1|Hudson Borer|9611-9809 West Ro...|     1986-12-12|Wood River|2017-10-06 13:04:...|borer-hudson@test...|40.71314890000001|-98.5259864|ccca881f-3e4b-4e5...|Twitter|    SP|68883|\n",
      "|        4| 2019-08-22|             null|        94|         6|109.21864156655383|   6.01| 115.2207354961295|         1|         1|Hudson Borer|9611-9809 West Ro...|     1986-12-12|Wood River|2017-10-06 13:04:...|borer-hudson@test...|40.71314890000001|-98.5259864|ccca881f-3e4b-4e5...|Twitter|    SP|68883|\n",
      "|        5| 2018-10-09|             null|       132|         5|127.88197029833711|   7.03|134.94192935296473|         1|         1|Hudson Borer|9611-9809 West Ro...|     1986-12-12|Wood River|2017-10-06 13:04:...|borer-hudson@test...|40.71314890000001|-98.5259864|ccca881f-3e4b-4e5...|Twitter|    SP|68883|\n",
      "+---------+-----------+-----------------+----------+----------+------------------+-------+------------------+----------+----------+------------+--------------------+---------------+----------+--------------------+--------------------+-----------------+-----------+--------------------+-------+------+-----+\n",
      "only showing top 5 rows\n",
      "\n"
     ]
    }
   ],
   "source": [
    "df_join.show(5)"
   ]
  },
  {
   "cell_type": "code",
   "execution_count": 25,
   "metadata": {},
   "outputs": [],
   "source": [
    "# Agregação da consulta 3\n",
    "df_consulta3 = df_join.groupBy('estado', 'data_pedido') \\\n",
    ".agg({'desconto':'avg'}).select('estado', 'data_pedido', col('avg(desconto)').alias('media_desconto'))"
   ]
  },
  {
   "cell_type": "code",
   "execution_count": 26,
   "metadata": {},
   "outputs": [
    {
     "name": "stdout",
     "output_type": "stream",
     "text": [
      "+------+-----------+-----------------+\n",
      "|estado|data_pedido|   media_desconto|\n",
      "+------+-----------+-----------------+\n",
      "|    SC| 2018-05-28|             null|\n",
      "|    DF| 2019-11-15|             null|\n",
      "|    SP| 2018-01-18|             null|\n",
      "|    MA| 2018-07-06|             null|\n",
      "|    MA| 2020-01-31|             null|\n",
      "|    KY| 2018-08-17|             null|\n",
      "|    BA| 2018-03-25|3.115455689329357|\n",
      "|    IN| 2018-03-19|             null|\n",
      "|    AM| 2019-03-13|             null|\n",
      "|    ME| 2018-01-23|             null|\n",
      "|    MT| 2018-04-11|             null|\n",
      "|    IN| 2019-02-28|             null|\n",
      "|    DF| 2018-11-02|             null|\n",
      "|    MT| 2019-02-05|             null|\n",
      "|    FL| 2017-12-03|6.274049858216723|\n",
      "+------+-----------+-----------------+\n",
      "only showing top 15 rows\n",
      "\n"
     ]
    }
   ],
   "source": [
    "df_consulta3.show(15)"
   ]
  },
  {
   "cell_type": "markdown",
   "metadata": {},
   "source": [
    "## Carga no Banco de Dados"
   ]
  },
  {
   "cell_type": "markdown",
   "metadata": {},
   "source": [
    "### Carregando a Consulta 1"
   ]
  },
  {
   "cell_type": "code",
   "execution_count": 27,
   "metadata": {},
   "outputs": [
    {
     "data": {
      "text/plain": [
       "pyspark.sql.dataframe.DataFrame"
      ]
     },
     "execution_count": 27,
     "metadata": {},
     "output_type": "execute_result"
    }
   ],
   "source": [
    "type(df_consulta1)"
   ]
  },
  {
   "cell_type": "code",
   "execution_count": 28,
   "metadata": {},
   "outputs": [
    {
     "name": "stdout",
     "output_type": "stream",
     "text": [
      "+--------+-----------------+\n",
      "|   fonte|     total_vendas|\n",
      "+--------+-----------------+\n",
      "| Twitter|319448.7269814239|\n",
      "|Afiliado|297605.2749875903|\n",
      "|  Google|325183.5607881129|\n",
      "|Organico|319637.0497447002|\n",
      "|Facebook|333453.5126582293|\n",
      "+--------+-----------------+\n",
      "\n"
     ]
    }
   ],
   "source": [
    "df_consulta1.show(5)"
   ]
  },
  {
   "cell_type": "code",
   "execution_count": 29,
   "metadata": {},
   "outputs": [],
   "source": [
    "# Gerar valores exclusivos como id\n",
    "import uuid"
   ]
  },
  {
   "cell_type": "code",
   "execution_count": 30,
   "metadata": {},
   "outputs": [
    {
     "data": {
      "text/plain": [
       "<cassandra.cluster.ResultSet at 0x7f99beda7550>"
      ]
     },
     "execution_count": 30,
     "metadata": {},
     "output_type": "execute_result"
    }
   ],
   "source": [
    "# Inserindo um registro\n",
    "session.execute(\n",
    "    \"\"\"\n",
    "    INSERT INTO TB_CONSULTA1 (ID, FONTE, TOTAL_VENDAS)\n",
    "    VALUES (%s, %s, %s)\n",
    "    \"\"\",\n",
    "    (uuid.uuid1(), \"Twitter\", 319448.72)\n",
    ")"
   ]
  },
  {
   "cell_type": "code",
   "execution_count": 31,
   "metadata": {},
   "outputs": [
    {
     "name": "stdout",
     "output_type": "stream",
     "text": [
      "Row(id=UUID('1d0af9e4-9bf8-11eb-8ae0-1bf33eb9f15e'), fonte='Twitter', total_vendas=319448.72)\n"
     ]
    }
   ],
   "source": [
    "# Consultando a tabela\n",
    "linhas = session.execute('select * from TB_CONSULTA1;')\n",
    "for linha in linhas:\n",
    "    print (linha)"
   ]
  },
  {
   "cell_type": "code",
   "execution_count": 32,
   "metadata": {},
   "outputs": [
    {
     "name": "stdout",
     "output_type": "stream",
     "text": [
      "Twitter\n",
      "319448.7269814239\n",
      "Afiliado\n",
      "297605.2749875903\n",
      "Google\n",
      "325183.5607881129\n",
      "Organico\n",
      "319637.0497447002\n",
      "Facebook\n",
      "333453.5126582293\n"
     ]
    }
   ],
   "source": [
    "# Coletando todas as linhas do dataframe\n",
    "rows = df_consulta1.collect()\n",
    "\n",
    "# Loop pelas linhas\n",
    "for i in rows:\n",
    "    print(i.fonte)\n",
    "    print(i.total_vendas)"
   ]
  },
  {
   "cell_type": "code",
   "execution_count": 33,
   "metadata": {},
   "outputs": [],
   "source": [
    "# Insere todos os registros na tabela\n",
    "for i in rows:\n",
    "    session.execute(\n",
    "    \"\"\"\n",
    "    INSERT INTO TB_CONSULTA1 (ID, FONTE, TOTAL_VENDAS)\n",
    "    VALUES (%s, %s, %s)\n",
    "    \"\"\",\n",
    "    (uuid.uuid1(), i.fonte, i.total_vendas)\n",
    ")"
   ]
  },
  {
   "cell_type": "code",
   "execution_count": 34,
   "metadata": {},
   "outputs": [
    {
     "name": "stdout",
     "output_type": "stream",
     "text": [
      "Row(id=UUID('25cae2b0-9bf8-11eb-8ae0-1bf33eb9f15e'), fonte='Twitter', total_vendas=319448.7269814239)\n",
      "Row(id=UUID('25ccd584-9bf8-11eb-8ae0-1bf33eb9f15e'), fonte='Facebook', total_vendas=333453.5126582293)\n",
      "Row(id=UUID('25cbf380-9bf8-11eb-8ae0-1bf33eb9f15e'), fonte='Google', total_vendas=325183.5607881129)\n",
      "Row(id=UUID('25cc5b22-9bf8-11eb-8ae0-1bf33eb9f15e'), fonte='Organico', total_vendas=319637.0497447002)\n",
      "Row(id=UUID('25cb5d08-9bf8-11eb-8ae0-1bf33eb9f15e'), fonte='Afiliado', total_vendas=297605.2749875903)\n"
     ]
    }
   ],
   "source": [
    "# Consultando a tabela\n",
    "linhas = session.execute('select * from TB_CONSULTA1;')\n",
    "for linha in linhas:\n",
    "    print (linha)"
   ]
  },
  {
   "cell_type": "markdown",
   "metadata": {},
   "source": [
    "### Carregando a Consulta 2"
   ]
  },
  {
   "cell_type": "code",
   "execution_count": 35,
   "metadata": {},
   "outputs": [
    {
     "name": "stdout",
     "output_type": "stream",
     "text": [
      "+------+------------------+\n",
      "|estado|      total_vendas|\n",
      "+------+------------------+\n",
      "|    SC|  78672.3796432496|\n",
      "|    PI|60885.920881314254|\n",
      "|    AM| 32415.70034927819|\n",
      "|    NJ| 6768.687499559493|\n",
      "|    RR| 35598.05678620004|\n",
      "+------+------------------+\n",
      "only showing top 5 rows\n",
      "\n"
     ]
    }
   ],
   "source": [
    "df_consulta2.show(5)"
   ]
  },
  {
   "cell_type": "code",
   "execution_count": 36,
   "metadata": {},
   "outputs": [],
   "source": [
    "# Coletando todas as linhas do dataframe\n",
    "rows2 = df_consulta2.collect()"
   ]
  },
  {
   "cell_type": "code",
   "execution_count": 37,
   "metadata": {},
   "outputs": [],
   "source": [
    "# Insere todos os registros na tabela\n",
    "for i in rows2:\n",
    "    session.execute(\n",
    "    \"\"\"\n",
    "    INSERT INTO TB_CONSULTA2 (ID, ESTADO, TOTAL_VENDAS)\n",
    "    VALUES (%s, %s, %s)\n",
    "    \"\"\",\n",
    "    (uuid.uuid1(), i.estado, i.total_vendas)\n",
    ")"
   ]
  },
  {
   "cell_type": "code",
   "execution_count": 38,
   "metadata": {},
   "outputs": [
    {
     "name": "stdout",
     "output_type": "stream",
     "text": [
      "Row(id=UUID('2be03f6a-9bf8-11eb-8ae0-1bf33eb9f15e'), estado='IN', total_vendas=39618.912714715996)\n",
      "Row(id=UUID('2bde4386-9bf8-11eb-8ae0-1bf33eb9f15e'), estado='NH', total_vendas=2775.888499371694)\n",
      "Row(id=UUID('2bdf04e2-9bf8-11eb-8ae0-1bf33eb9f15e'), estado='MD', total_vendas=7031.354914905968)\n",
      "Row(id=UUID('2bdc8168-9bf8-11eb-8ae0-1bf33eb9f15e'), estado='SC', total_vendas=78672.3796432496)\n",
      "Row(id=UUID('2be199dc-9bf8-11eb-8ae0-1bf33eb9f15e'), estado='WV', total_vendas=18074.826617148246)\n",
      "Row(id=UUID('2be09e24-9bf8-11eb-8ae0-1bf33eb9f15e'), estado='NM', total_vendas=12484.900805231957)\n",
      "Row(id=UUID('2be238c4-9bf8-11eb-8ae0-1bf33eb9f15e'), estado='PR', total_vendas=59732.90421633871)\n",
      "Row(id=UUID('2be0e2c6-9bf8-11eb-8ae0-1bf33eb9f15e'), estado='BA', total_vendas=39054.741385205074)\n",
      "Row(id=UUID('2be0bbac-9bf8-11eb-8ae0-1bf33eb9f15e'), estado='PA', total_vendas=35051.89459979438)\n",
      "Row(id=UUID('2be20dfe-9bf8-11eb-8ae0-1bf33eb9f15e'), estado='AK', total_vendas=36984.23330876673)\n",
      "Row(id=UUID('2bddb9a2-9bf8-11eb-8ae0-1bf33eb9f15e'), estado='NJ', total_vendas=6768.687499559493)\n",
      "Row(id=UUID('2bdf89f8-9bf8-11eb-8ae0-1bf33eb9f15e'), estado='IL', total_vendas=46907.06806267226)\n",
      "Row(id=UUID('2bddf2f0-9bf8-11eb-8ae0-1bf33eb9f15e'), estado='RR', total_vendas=35598.05678620004)\n",
      "Row(id=UUID('2be223b6-9bf8-11eb-8ae0-1bf33eb9f15e'), estado='OK', total_vendas=22836.2026456003)\n",
      "Row(id=UUID('2be1b624-9bf8-11eb-8ae0-1bf33eb9f15e'), estado='RJ', total_vendas=38442.711430219475)\n",
      "Row(id=UUID('2bdf240e-9bf8-11eb-8ae0-1bf33eb9f15e'), estado='DE', total_vendas=1497.4754987330498)\n",
      "Row(id=UUID('2be154fe-9bf8-11eb-8ae0-1bf33eb9f15e'), estado='CE', total_vendas=26489.67286652318)\n",
      "Row(id=UUID('2bde141a-9bf8-11eb-8ae0-1bf33eb9f15e'), estado='KY', total_vendas=41082.72106482593)\n",
      "Row(id=UUID('2be100ee-9bf8-11eb-8ae0-1bf33eb9f15e'), estado='SE', total_vendas=55301.186790120635)\n",
      "Row(id=UUID('2bdd80d6-9bf8-11eb-8ae0-1bf33eb9f15e'), estado='AM', total_vendas=32415.70034927819)\n",
      "Row(id=UUID('2be25570-9bf8-11eb-8ae0-1bf33eb9f15e'), estado='AP', total_vendas=52559.37866225034)\n",
      "Row(id=UUID('2be1f8a0-9bf8-11eb-8ae0-1bf33eb9f15e'), estado='FL', total_vendas=26477.984775716846)\n",
      "Row(id=UUID('2be2859a-9bf8-11eb-8ae0-1bf33eb9f15e'), estado='UT', total_vendas=7451.060411854994)\n",
      "Row(id=UUID('2be1cbdc-9bf8-11eb-8ae0-1bf33eb9f15e'), estado='MA', total_vendas=13989.593692041351)\n",
      "Row(id=UUID('2bdd1c5e-9bf8-11eb-8ae0-1bf33eb9f15e'), estado='PI', total_vendas=60885.920881314254)\n",
      "Row(id=UUID('2bdfb8a6-9bf8-11eb-8ae0-1bf33eb9f15e'), estado='ND', total_vendas=50636.861687212586)\n",
      "Row(id=UUID('2bde60aa-9bf8-11eb-8ae0-1bf33eb9f15e'), estado='ID', total_vendas=17428.889547384915)\n",
      "Row(id=UUID('2be1367c-9bf8-11eb-8ae0-1bf33eb9f15e'), estado='PE', total_vendas=42191.61769080675)\n",
      "Row(id=UUID('2bdfed9e-9bf8-11eb-8ae0-1bf33eb9f15e'), estado='RS', total_vendas=3346.731494837816)\n",
      "Row(id=UUID('2bdfa37a-9bf8-11eb-8ae0-1bf33eb9f15e'), estado='ME', total_vendas=6244.371582805322)\n",
      "Row(id=UUID('2be176dc-9bf8-11eb-8ae0-1bf33eb9f15e'), estado='RN', total_vendas=50219.69679177159)\n",
      "Row(id=UUID('2bdf7224-9bf8-11eb-8ae0-1bf33eb9f15e'), estado='PB', total_vendas=29211.249189820894)\n",
      "Row(id=UUID('2be05fa4-9bf8-11eb-8ae0-1bf33eb9f15e'), estado='MG', total_vendas=32361.019951940285)\n",
      "Row(id=UUID('2bde7c0c-9bf8-11eb-8ae0-1bf33eb9f15e'), estado='CT', total_vendas=2206.771524765544)\n",
      "Row(id=UUID('2bded094-9bf8-11eb-8ae0-1bf33eb9f15e'), estado='NC', total_vendas=48834.20587334776)\n",
      "Row(id=UUID('2be00cca-9bf8-11eb-8ae0-1bf33eb9f15e'), estado='MS', total_vendas=72978.18665670906)\n",
      "Row(id=UUID('2be1e2de-9bf8-11eb-8ae0-1bf33eb9f15e'), estado='DF', total_vendas=69064.01586770012)\n",
      "Row(id=UUID('2be025de-9bf8-11eb-8ae0-1bf33eb9f15e'), estado='AL', total_vendas=43402.92456990082)\n",
      "Row(id=UUID('2bde2e50-9bf8-11eb-8ae0-1bf33eb9f15e'), estado='WY', total_vendas=21035.722877885597)\n",
      "Row(id=UUID('2be07be2-9bf8-11eb-8ae0-1bf33eb9f15e'), estado='TN', total_vendas=37629.65108567451)\n",
      "Row(id=UUID('2bdeed2c-9bf8-11eb-8ae0-1bf33eb9f15e'), estado='VT', total_vendas=7279.1304098682795)\n",
      "Row(id=UUID('2bdfcd78-9bf8-11eb-8ae0-1bf33eb9f15e'), estado='WA', total_vendas=34642.72979383603)\n",
      "Row(id=UUID('2bdf3c00-9bf8-11eb-8ae0-1bf33eb9f15e'), estado='SP', total_vendas=45512.11043736533)\n",
      "Row(id=UUID('2bdea236-9bf8-11eb-8ae0-1bf33eb9f15e'), estado='MT', total_vendas=182916.780004783)\n"
     ]
    }
   ],
   "source": [
    "# Consultando a tabela\n",
    "linhas = session.execute('select * from TB_CONSULTA2;')\n",
    "for linha in linhas:\n",
    "    print (linha)"
   ]
  },
  {
   "cell_type": "markdown",
   "metadata": {},
   "source": [
    "### Carregando a Consulta 3"
   ]
  },
  {
   "cell_type": "code",
   "execution_count": 39,
   "metadata": {},
   "outputs": [
    {
     "name": "stdout",
     "output_type": "stream",
     "text": [
      "+------+-----------+--------------+\n",
      "|estado|data_pedido|media_desconto|\n",
      "+------+-----------+--------------+\n",
      "|    SC| 2018-05-28|          null|\n",
      "|    DF| 2019-11-15|          null|\n",
      "|    SP| 2018-01-18|          null|\n",
      "|    MA| 2018-07-06|          null|\n",
      "|    MA| 2020-01-31|          null|\n",
      "+------+-----------+--------------+\n",
      "only showing top 5 rows\n",
      "\n"
     ]
    }
   ],
   "source": [
    "df_consulta3.show(5)"
   ]
  },
  {
   "cell_type": "code",
   "execution_count": 40,
   "metadata": {},
   "outputs": [],
   "source": [
    "# Coletando todas as linhas do dataframe\n",
    "rows3 = df_consulta3.collect()"
   ]
  },
  {
   "cell_type": "code",
   "execution_count": 41,
   "metadata": {},
   "outputs": [],
   "source": [
    "# Insere todos os registros na tabela\n",
    "for i in rows3:\n",
    "    \n",
    "    if i.media_desconto == None:\n",
    "        session.execute(\n",
    "            \"\"\"\n",
    "            INSERT INTO TB_CONSULTA3 (ID, ESTADO, DATA_PEDIDO, MEDIA_DESCONTO)\n",
    "            VALUES (%s, %s, %s, %s)\n",
    "            \"\"\",\n",
    "            (uuid.uuid1(), i.estado, i.data_pedido, 0))\n",
    "    else:\n",
    "            session.execute(\n",
    "                \"\"\"\n",
    "                INSERT INTO TB_CONSULTA3 (ID, ESTADO, DATA_PEDIDO, MEDIA_DESCONTO)\n",
    "                VALUES (%s, %s, %s, %s)\n",
    "                \"\"\",\n",
    "                (uuid.uuid1(), i.estado, i.data_pedido, i.media_desconto))"
   ]
  },
  {
   "cell_type": "code",
   "execution_count": 42,
   "metadata": {},
   "outputs": [
    {
     "name": "stdout",
     "output_type": "stream",
     "text": [
      "Row(id=UUID('2d2b6e52-9bf9-11eb-8ae0-1bf33eb9f15e'), data_pedido=Date(17288), estado='MT', media_desconto=0.0)\n",
      "Row(id=UUID('3123fb14-9bf9-11eb-8ae0-1bf33eb9f15e'), data_pedido=Date(17677), estado='FL', media_desconto=0.0)\n",
      "Row(id=UUID('3195e788-9bf9-11eb-8ae0-1bf33eb9f15e'), data_pedido=Date(17266), estado='MT', media_desconto=0.0)\n",
      "Row(id=UUID('34160218-9bf9-11eb-8ae0-1bf33eb9f15e'), data_pedido=Date(18024), estado='MT', media_desconto=0.0)\n",
      "Row(id=UUID('2d221848-9bf9-11eb-8ae0-1bf33eb9f15e'), data_pedido=Date(17835), estado='SC', media_desconto=5.660386613495339)\n",
      "Row(id=UUID('2f928d38-9bf9-11eb-8ae0-1bf33eb9f15e'), data_pedido=Date(18025), estado='NM', media_desconto=0.0)\n",
      "Row(id=UUID('3051881e-9bf9-11eb-8ae0-1bf33eb9f15e'), data_pedido=Date(18331), estado='ND', media_desconto=0.0)\n",
      "Row(id=UUID('313f911c-9bf9-11eb-8ae0-1bf33eb9f15e'), data_pedido=Date(17588), estado='CE', media_desconto=0.0)\n",
      "Row(id=UUID('32e96362-9bf9-11eb-8ae0-1bf33eb9f15e'), data_pedido=Date(17215), estado='KY', media_desconto=0.0)\n",
      "Row(id=UUID('2e9ae9b6-9bf9-11eb-8ae0-1bf33eb9f15e'), data_pedido=Date(17618), estado='RN', media_desconto=0.0)\n",
      "Row(id=UUID('3382057c-9bf9-11eb-8ae0-1bf33eb9f15e'), data_pedido=Date(17391), estado='PE', media_desconto=0.0)\n",
      "Row(id=UUID('31511982-9bf9-11eb-8ae0-1bf33eb9f15e'), data_pedido=Date(17483), estado='SC', media_desconto=0.0)\n",
      "Row(id=UUID('3449dca0-9bf9-11eb-8ae0-1bf33eb9f15e'), data_pedido=Date(17454), estado='MT', media_desconto=0.0)\n",
      "Row(id=UUID('2f7e890a-9bf9-11eb-8ae0-1bf33eb9f15e'), data_pedido=Date(17424), estado='SE', media_desconto=0.0)\n",
      "Row(id=UUID('34b514e8-9bf9-11eb-8ae0-1bf33eb9f15e'), data_pedido=Date(17780), estado='PI', media_desconto=0.0)\n",
      "Row(id=UUID('311b160c-9bf9-11eb-8ae0-1bf33eb9f15e'), data_pedido=Date(17148), estado='PE', media_desconto=0.0)\n",
      "Row(id=UUID('307161de-9bf9-11eb-8ae0-1bf33eb9f15e'), data_pedido=Date(17486), estado='MD', media_desconto=0.0)\n",
      "Row(id=UUID('31c3be88-9bf9-11eb-8ae0-1bf33eb9f15e'), data_pedido=Date(18185), estado='FL', media_desconto=0.0)\n",
      "Row(id=UUID('306e4bb6-9bf9-11eb-8ae0-1bf33eb9f15e'), data_pedido=Date(17367), estado='PE', media_desconto=0.0)\n",
      "Row(id=UUID('30bb3caa-9bf9-11eb-8ae0-1bf33eb9f15e'), data_pedido=Date(17910), estado='WV', media_desconto=0.0)\n",
      "Row(id=UUID('3107345c-9bf9-11eb-8ae0-1bf33eb9f15e'), data_pedido=Date(18339), estado='RR', media_desconto=0.0)\n",
      "Row(id=UUID('2e3167e8-9bf9-11eb-8ae0-1bf33eb9f15e'), data_pedido=Date(17573), estado='SC', media_desconto=7.8228095456727)\n",
      "Row(id=UUID('2d27a04c-9bf9-11eb-8ae0-1bf33eb9f15e'), data_pedido=Date(17469), estado='NM', media_desconto=0.0)\n",
      "Row(id=UUID('2e07918e-9bf9-11eb-8ae0-1bf33eb9f15e'), data_pedido=Date(17320), estado='BA', media_desconto=0.0)\n",
      "Row(id=UUID('32083ed2-9bf9-11eb-8ae0-1bf33eb9f15e'), data_pedido=Date(17875), estado='PA', media_desconto=0.0)\n"
     ]
    }
   ],
   "source": [
    "# Consultando a tabela\n",
    "linhas = session.execute('select * from TB_CONSULTA3 limit 25;')\n",
    "for linha in linhas:\n",
    "    print (linha)"
   ]
  },
  {
   "cell_type": "markdown",
   "metadata": {},
   "source": [
    "# Fim"
   ]
  }
 ],
 "metadata": {
  "kernelspec": {
   "display_name": "Python 3",
   "language": "python",
   "name": "python3"
  },
  "language_info": {
   "codemirror_mode": {
    "name": "ipython",
    "version": 3
   },
   "file_extension": ".py",
   "mimetype": "text/x-python",
   "name": "python",
   "nbconvert_exporter": "python",
   "pygments_lexer": "ipython3",
   "version": "3.8.5"
  }
 },
 "nbformat": 4,
 "nbformat_minor": 4
}

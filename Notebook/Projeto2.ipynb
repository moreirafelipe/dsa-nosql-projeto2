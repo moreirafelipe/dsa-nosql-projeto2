{
 "cells": [
  {
   "cell_type": "code",
   "execution_count": 1,
   "id": "a6b9117d",
   "metadata": {},
   "outputs": [],
   "source": [
    "!pip install -q cassandra-driver"
   ]
  },
  {
   "cell_type": "code",
   "execution_count": 3,
   "id": "3dd0af65",
   "metadata": {},
   "outputs": [],
   "source": [
    "from cassandra.cluster import Cluster"
   ]
  },
  {
   "cell_type": "code",
   "execution_count": 9,
   "id": "7f740d92",
   "metadata": {},
   "outputs": [],
   "source": [
    "cluster = Cluster(['localhost'])"
   ]
  },
  {
   "cell_type": "code",
   "execution_count": 17,
   "id": "7b968eb6",
   "metadata": {},
   "outputs": [],
   "source": [
    "session = cluster.connect('projeto02')"
   ]
  },
  {
   "cell_type": "code",
   "execution_count": 18,
   "id": "031482f5",
   "metadata": {},
   "outputs": [],
   "source": [
    "linhas = session.execute('select * from TB_CONSULTA1 limit 5;')\n",
    "for linha in linhas:\n",
    "    print(linha)"
   ]
  },
  {
   "cell_type": "code",
   "execution_count": 19,
   "id": "2ca82dcf",
   "metadata": {},
   "outputs": [],
   "source": [
    "cassandra_keyspace = \"projeto02\""
   ]
  },
  {
   "cell_type": "code",
   "execution_count": 29,
   "id": "f47702c2",
   "metadata": {},
   "outputs": [],
   "source": [
    "#Dataset de clientes\n",
    "df_clientes = spark.read.csv(\"/home/felipe/Projeto2/dados/Clientes.csv\", header = True, inferSchema = True)"
   ]
  },
  {
   "cell_type": "code",
   "execution_count": 30,
   "id": "6fbfcd6b",
   "metadata": {},
   "outputs": [
    {
     "name": "stdout",
     "output_type": "stream",
     "text": [
      "+----------+-------------------+--------------------+---------------+-----------+--------------------+--------------------+-----------------+------------+--------------------+--------+------+-----+\n",
      "|ID_Cliente|               Nome|            Endereco|Data_Nascimento|     Cidade|       Data_Cadastro|               Email|         Latitude|   Longitude|               Senha|   Fonte|Estado|  Zip|\n",
      "+----------+-------------------+--------------------+---------------+-----------+--------------------+--------------------+-----------------+------------+--------------------+--------+------+-----+\n",
      "|         1|       Hudson Borer|9611-9809 West Ro...|     1986-12-12| Wood River|2017-10-06 17:04:...|borer-hudson@test...|40.71314890000001| -98.5259864|ccca881f-3e4b-4e5...| Twitter|    SP|68883|\n",
      "|         2|Domenica Williamson|      101 4th Street|     1967-06-10|  Searsboro|2018-04-09 03:40:...|williamson-domeni...|       41.5813224| -92.6991321|eafc45bf-cf8e-4c9...|Afiliado|    SC|50242|\n",
      "|         3|        Lina Heaney|29494 Anderson Drive|     1961-12-18|  Sandstone|2017-06-26 21:36:...|lina.heaney@teste...|46.11973039999999| -92.8416108|36f67891-34e5-443...|Facebook|    DF|55072|\n",
      "|         4|       Arnold Adams|2-7900 Cuerno Ver...|     1992-08-12|        Rye|2019-02-21 05:29:...|adams.arnold@test...|       37.9202933|-104.9726909|537a727b-7525-44a...|  Google|    PI|81069|\n",
      "|         5|  Dominique Leffler|  761 Fish Hill Road|     1974-04-20|Beaver Dams|2017-09-04 19:06:...|leffler.dominique...|        42.348954|  -77.056681|6a802b6c-4da8-488...| Twitter|    SE|14812|\n",
      "+----------+-------------------+--------------------+---------------+-----------+--------------------+--------------------+-----------------+------------+--------------------+--------+------+-----+\n",
      "only showing top 5 rows\n",
      "\n"
     ]
    }
   ],
   "source": [
    "df_clientes.show(5)"
   ]
  },
  {
   "cell_type": "code",
   "execution_count": 32,
   "id": "0b4cd1b0",
   "metadata": {},
   "outputs": [],
   "source": [
    "#Dataset de pedidos\n",
    "df_pedidos = spark.read.csv(\"/home/felipe/Projeto2/dados/Pedidos.csv\", header = True, inferSchema = True)"
   ]
  },
  {
   "cell_type": "code",
   "execution_count": 33,
   "id": "ff08332d",
   "metadata": {},
   "outputs": [
    {
     "name": "stdout",
     "output_type": "stream",
     "text": [
      "+---------+--------------------+-----------------+----------+----------+------------------+-------+------------------+----------+\n",
      "|ID_Pedido|         Data_Pedido|         Desconto|ID_Produto|Quantidade|          Subtotal|Imposto|             Total|ID_Cliente|\n",
      "+---------+--------------------+-----------------+----------+----------+------------------+-------+------------------+----------+\n",
      "|        1|2019-02-11 14:10:...|             null|        14|         2|37.648145389078365|   2.07|39.718145389078366|         1|\n",
      "|        2|2018-05-14 23:34:...|             null|       123|         3|110.93145648834248|    6.1| 117.0376564084763|         1|\n",
      "|        3|2019-12-06 13:52:...|6.416679208849759|       105|         2|52.723521442619514|    2.9| 55.62208681964182|         1|\n",
      "|        4|2019-08-22 08:00:...|             null|        94|         6|109.21864156655383|   6.01| 115.2207354961295|         1|\n",
      "|        5|2018-10-09 19:04:...|             null|       132|         5|127.88197029833711|   7.03|134.94192935296473|         1|\n",
      "+---------+--------------------+-----------------+----------+----------+------------------+-------+------------------+----------+\n",
      "only showing top 5 rows\n",
      "\n"
     ]
    }
   ],
   "source": [
    "df_pedidos.show(5)"
   ]
  },
  {
   "cell_type": "code",
   "execution_count": null,
   "id": "c70e22f8",
   "metadata": {},
   "outputs": [],
   "source": [
    "##Juncao de tabelas"
   ]
  },
  {
   "cell_type": "code",
   "execution_count": 42,
   "id": "004cb8eb",
   "metadata": {},
   "outputs": [],
   "source": [
    "#Converte dados da tabela clientes\n",
    "for i in df_clientes.columns:\n",
    "    df_clientes = df_clientes.withColumnRenamed(i,i.lower())"
   ]
  },
  {
   "cell_type": "code",
   "execution_count": 43,
   "id": "533f0670",
   "metadata": {},
   "outputs": [],
   "source": [
    "#Converte os dados da tabela pedidos\n",
    "for i in df_pedidos.columns:\n",
    "    df_pedidos = df_pedidos.withColumnRenamed(i, i.lower())"
   ]
  },
  {
   "cell_type": "code",
   "execution_count": 45,
   "id": "2ad30b38",
   "metadata": {},
   "outputs": [],
   "source": [
    "#Realiza Inner Join das tabelas clientes e pedidos\n",
    "df_join = df_pedidos.join(df_clientes, df_pedidos.id_cliente==df_clientes.id_cliente, how = 'inner')"
   ]
  },
  {
   "cell_type": "code",
   "execution_count": 46,
   "id": "9e5fbc76",
   "metadata": {},
   "outputs": [
    {
     "name": "stdout",
     "output_type": "stream",
     "text": [
      "root\n",
      " |-- id_pedido: integer (nullable = true)\n",
      " |-- data_pedido: timestamp (nullable = true)\n",
      " |-- desconto: double (nullable = true)\n",
      " |-- id_produto: integer (nullable = true)\n",
      " |-- quantidade: integer (nullable = true)\n",
      " |-- subtotal: double (nullable = true)\n",
      " |-- imposto: double (nullable = true)\n",
      " |-- total: double (nullable = true)\n",
      " |-- id_cliente: integer (nullable = true)\n",
      " |-- id_cliente: integer (nullable = true)\n",
      " |-- nome: string (nullable = true)\n",
      " |-- endereco: string (nullable = true)\n",
      " |-- data_nascimento: string (nullable = true)\n",
      " |-- cidade: string (nullable = true)\n",
      " |-- data_cadastro: timestamp (nullable = true)\n",
      " |-- email: string (nullable = true)\n",
      " |-- latitude: double (nullable = true)\n",
      " |-- longitude: double (nullable = true)\n",
      " |-- senha: string (nullable = true)\n",
      " |-- fonte: string (nullable = true)\n",
      " |-- estado: string (nullable = true)\n",
      " |-- zip: integer (nullable = true)\n",
      "\n"
     ]
    }
   ],
   "source": [
    "#Schema\n",
    "df_join.printSchema()"
   ]
  },
  {
   "cell_type": "code",
   "execution_count": 47,
   "id": "215cd6be",
   "metadata": {},
   "outputs": [],
   "source": [
    "#Agregacoes\n",
    "from pyspark.sql.functions import col"
   ]
  },
  {
   "cell_type": "code",
   "execution_count": null,
   "id": "9b3e649c",
   "metadata": {},
   "outputs": [],
   "source": []
  },
  {
   "cell_type": "code",
   "execution_count": 48,
   "id": "2301b8c0",
   "metadata": {},
   "outputs": [],
   "source": [
    "#Agregação de consulta pela fonte agrupando pela somatória do total de vendas\n",
    "df_consulta1 = df_join.groupBy('fonte') \\\n",
    ".agg({'total':'sum'}).select('fonte', col('sum(total)').alias('total_vendas'))"
   ]
  },
  {
   "cell_type": "code",
   "execution_count": 50,
   "id": "c895a0c6",
   "metadata": {
    "scrolled": true
   },
   "outputs": [
    {
     "name": "stderr",
     "output_type": "stream",
     "text": [
      "[Stage 19:>                                                         (0 + 1) / 1]\r"
     ]
    },
    {
     "name": "stdout",
     "output_type": "stream",
     "text": [
      "+--------+-----------------+\n",
      "|   fonte|     total_vendas|\n",
      "+--------+-----------------+\n",
      "| Twitter|319448.7269814239|\n",
      "|Afiliado|297605.2749875903|\n",
      "|  Google|325183.5607881129|\n",
      "|Organico|319637.0497447002|\n",
      "|Facebook|333453.5126582293|\n",
      "+--------+-----------------+\n",
      "\n"
     ]
    },
    {
     "name": "stderr",
     "output_type": "stream",
     "text": [
      "                                                                                \r"
     ]
    }
   ],
   "source": [
    "df_consulta1.show(5)"
   ]
  },
  {
   "cell_type": "code",
   "execution_count": 67,
   "id": "609d2521",
   "metadata": {},
   "outputs": [],
   "source": [
    "import uuid"
   ]
  },
  {
   "cell_type": "code",
   "execution_count": 77,
   "id": "813c5d56",
   "metadata": {},
   "outputs": [
    {
     "data": {
      "text/plain": [
       "<cassandra.cluster.ResultSet at 0x7fe00a887c40>"
      ]
     },
     "execution_count": 77,
     "metadata": {},
     "output_type": "execute_result"
    }
   ],
   "source": [
    "#Inserindo registro\n",
    "session.execute(\n",
    "    \"\"\"\n",
    "    INSERT INTO TB_CONSULTA1(ID, FONTE, TOTAL_VENDAS)\n",
    "    VALUES(%s, %s, %s)\n",
    "    \"\"\",\n",
    "    (uuid.uuid1(), \"Twitter\",319448.72)\n",
    ")"
   ]
  },
  {
   "cell_type": "code",
   "execution_count": 78,
   "id": "8910ca7d",
   "metadata": {},
   "outputs": [
    {
     "name": "stdout",
     "output_type": "stream",
     "text": [
      "Row(id=UUID('021ce460-7bf9-11ec-af24-080027e8eeed'), fonte='Twitter', total_vendas=319448.72)\n"
     ]
    }
   ],
   "source": [
    "#Consultando a tabela\n",
    "linhas = session.execute('select * from TB_CONSULTA1')\n",
    "for linha in linhas:\n",
    "    print(linha)"
   ]
  },
  {
   "cell_type": "code",
   "execution_count": 85,
   "id": "034db084",
   "metadata": {},
   "outputs": [
    {
     "name": "stdout",
     "output_type": "stream",
     "text": [
      "Twitter\n",
      "319448.7269814239\n",
      "Afiliado\n",
      "297605.2749875903\n",
      "Google\n",
      "325183.5607881129\n",
      "Organico\n",
      "319637.0497447002\n",
      "Facebook\n",
      "333453.5126582293\n"
     ]
    }
   ],
   "source": [
    "#Coletando linhas do dataframe\n",
    "rows = df_consulta1.collect()\n",
    "\n",
    "#loop para imprimir linhas\n",
    "for row in rows:\n",
    "    print(row.fonte)\n",
    "    print(row.total_vendas)"
   ]
  },
  {
   "cell_type": "code",
   "execution_count": 86,
   "id": "83ef2327",
   "metadata": {},
   "outputs": [],
   "source": [
    "#Inserindo registro\n",
    "for i in rows:\n",
    "    session.execute(\n",
    "    \"\"\"\n",
    "    INSERT INTO TB_CONSULTA1(ID, FONTE, TOTAL_VENDAS)\n",
    "    VALUES(%s, %s, %s)\n",
    "    \"\"\",\n",
    "    (uuid.uuid1(), i.fonte, i.total_vendas)\n",
    "    )"
   ]
  },
  {
   "cell_type": "code",
   "execution_count": 87,
   "id": "ec18fe2b",
   "metadata": {},
   "outputs": [
    {
     "name": "stdout",
     "output_type": "stream",
     "text": [
      "Row(id=UUID('f88b5c5c-7bf9-11ec-8bd6-080027e8eeed'), fonte='Afiliado', total_vendas=297605.2749875903)\n",
      "Row(id=UUID('f88ecef4-7bf9-11ec-81de-080027e8eeed'), fonte='Facebook', total_vendas=333453.5126582293)\n",
      "Row(id=UUID('f88e35f8-7bf9-11ec-89c0-080027e8eeed'), fonte='Organico', total_vendas=319637.0497447002)\n",
      "Row(id=UUID('f8884013-7bf9-11ec-9eed-080027e8eeed'), fonte='Twitter', total_vendas=319448.7269814239)\n",
      "Row(id=UUID('f88c5cf3-7bf9-11ec-b47e-080027e8eeed'), fonte='Google', total_vendas=325183.5607881129)\n"
     ]
    }
   ],
   "source": [
    "#Consultando a tabela\n",
    "linhas = session.execute('select * from TB_CONSULTA1')\n",
    "for linha in linhas:\n",
    "    print(linha)"
   ]
  },
  {
   "cell_type": "code",
   "execution_count": 53,
   "id": "66c34377",
   "metadata": {},
   "outputs": [],
   "source": [
    "#Agregação de consulta pelo estado agrupando pela somatória do total de vendas\n",
    "df_consulta2 = df_join.groupBy('estado') \\\n",
    ".agg({'total':'sum'}).select('estado', col('sum(total)').alias('total_vendas'))"
   ]
  },
  {
   "cell_type": "code",
   "execution_count": 88,
   "id": "1bedcb9e",
   "metadata": {
    "scrolled": false
   },
   "outputs": [
    {
     "name": "stdout",
     "output_type": "stream",
     "text": [
      "+------+------------------+\n",
      "|estado|      total_vendas|\n",
      "+------+------------------+\n",
      "|    SC|  78672.3796432496|\n",
      "|    PI|60885.920881314254|\n",
      "|    AM| 32415.70034927819|\n",
      "|    NJ| 6768.687499559493|\n",
      "|    RR| 35598.05678620004|\n",
      "+------+------------------+\n",
      "only showing top 5 rows\n",
      "\n"
     ]
    }
   ],
   "source": [
    "df_consulta2.show(5)"
   ]
  },
  {
   "cell_type": "code",
   "execution_count": 99,
   "id": "68e233c4",
   "metadata": {},
   "outputs": [],
   "source": [
    "#Coletando todas as linhas do dataframe\n",
    "rows2 = df_consulta2.collect()"
   ]
  },
  {
   "cell_type": "code",
   "execution_count": 100,
   "id": "1c5308c9",
   "metadata": {},
   "outputs": [],
   "source": [
    "#Inserindo registro\n",
    "for i in rows2:\n",
    "    session.execute(\n",
    "    \"\"\"\n",
    "    INSERT INTO TB_CONSULTA2(ID, ESTADO, TOTAL_VENDAS)\n",
    "    VALUES(%s, %s, %s)\n",
    "    \"\"\",\n",
    "    (uuid.uuid1(), i.estado, i.total_vendas)\n",
    "    )"
   ]
  },
  {
   "cell_type": "code",
   "execution_count": 103,
   "id": "cebfe5a2",
   "metadata": {},
   "outputs": [
    {
     "name": "stdout",
     "output_type": "stream",
     "text": [
      "Row(id=UUID('f68cecf9-7bfb-11ec-90f0-080027e8eeed'), estado='NM', total_vendas=12484.900805231957)\n",
      "Row(id=UUID('f675c560-7bfb-11ec-955d-080027e8eeed'), estado='NC', total_vendas=48834.20587334776)\n",
      "Row(id=UUID('1423b94c-7bfc-11ec-8a7b-080027e8eeed'), estado='AM', total_vendas=32415.70034927819)\n",
      "Row(id=UUID('f6794369-7bfb-11ec-8950-080027e8eeed'), estado='MD', total_vendas=7031.354914905968)\n",
      "Row(id=UUID('1435a033-7bfc-11ec-84c3-080027e8eeed'), estado='TN', total_vendas=37629.65108567451)\n",
      "Row(id=UUID('f6a665b9-7bfb-11ec-8337-080027e8eeed'), estado='UT', total_vendas=7451.060411854994)\n",
      "Row(id=UUID('14444080-7bfc-11ec-b76a-080027e8eeed'), estado='AK', total_vendas=36984.23330876673)\n",
      "Row(id=UUID('f68e7bf2-7bfb-11ec-8a00-080027e8eeed'), estado='PA', total_vendas=35051.89459979438)\n",
      "Row(id=UUID('f68610d3-7bfb-11ec-bbeb-080027e8eeed'), estado='MS', total_vendas=72978.18665670906)\n",
      "Row(id=UUID('f6749bb8-7bfb-11ec-98aa-080027e8eeed'), estado='CT', total_vendas=2206.771524765544)\n",
      "Row(id=UUID('f69022e8-7bfb-11ec-8196-080027e8eeed'), estado='BA', total_vendas=39054.741385205074)\n",
      "Row(id=UUID('1433d6dd-7bfc-11ec-a007-080027e8eeed'), estado='MS', total_vendas=72978.18665670906)\n",
      "Row(id=UUID('f671eba3-7bfb-11ec-aa8b-080027e8eeed'), estado='WY', total_vendas=21035.722877885597)\n",
      "Row(id=UUID('f69a32d2-7bfb-11ec-9d20-080027e8eeed'), estado='MA', total_vendas=13989.593692041351)\n",
      "Row(id=UUID('142eec46-7bfc-11ec-a614-080027e8eeed'), estado='CT', total_vendas=2206.771524765544)\n",
      "Row(id=UUID('14492a76-7bfc-11ec-9d23-080027e8eeed'), estado='AP', total_vendas=52559.37866225034)\n",
      "Row(id=UUID('f698f578-7bfb-11ec-a6f7-080027e8eeed'), estado='RJ', total_vendas=38442.711430219475)\n",
      "Row(id=UUID('f67c5e90-7bfb-11ec-a80a-080027e8eeed'), estado='SP', total_vendas=45512.11043736533)\n",
      "Row(id=UUID('f671346a-7bfb-11ec-a9fe-080027e8eeed'), estado='KY', total_vendas=41082.72106482593)\n",
      "Row(id=UUID('144ab9b4-7bfc-11ec-b4e5-080027e8eeed'), estado='UT', total_vendas=7451.060411854994)\n",
      "Row(id=UUID('f6936ca6-7bfb-11ec-9efe-080027e8eeed'), estado='PE', total_vendas=42191.61769080675)\n",
      "Row(id=UUID('f66f6d41-7bfb-11ec-870d-080027e8eeed'), estado='NJ', total_vendas=6768.687499559493)\n",
      "Row(id=UUID('1436fa49-7bfc-11ec-bfb2-080027e8eeed'), estado='PE', total_vendas=42191.61769080675)\n",
      "Row(id=UUID('f687e5c8-7bfb-11ec-825e-080027e8eeed'), estado='IN', total_vendas=39618.912714715996)\n",
      "Row(id=UUID('f6708516-7bfb-11ec-a842-080027e8eeed'), estado='RR', total_vendas=35598.05678620004)\n",
      "Row(id=UUID('f6a3f1c5-7bfb-11ec-996b-080027e8eeed'), estado='OK', total_vendas=22836.2026456003)\n",
      "Row(id=UUID('143510c7-7bfc-11ec-a24b-080027e8eeed'), estado='IN', total_vendas=39618.912714715996)\n",
      "Row(id=UUID('143dce75-7bfc-11ec-8f86-080027e8eeed'), estado='RJ', total_vendas=38442.711430219475)\n",
      "Row(id=UUID('f6a58c90-7bfb-11ec-a561-080027e8eeed'), estado='AP', total_vendas=52559.37866225034)\n",
      "Row(id=UUID('f67ac96d-7bfb-11ec-95a4-080027e8eeed'), estado='DE', total_vendas=1497.4754987330498)\n",
      "Row(id=UUID('14355de8-7bfc-11ec-8f83-080027e8eeed'), estado='MG', total_vendas=32361.019951940285)\n",
      "Row(id=UUID('1445d638-7bfc-11ec-8077-080027e8eeed'), estado='OK', total_vendas=22836.2026456003)\n",
      "Row(id=UUID('f6857e44-7bfb-11ec-8f1b-080027e8eeed'), estado='WA', total_vendas=34642.72979383603)\n",
      "Row(id=UUID('1421ebe4-7bfc-11ec-9938-080027e8eeed'), estado='SC', total_vendas=78672.3796432496)\n",
      "Row(id=UUID('1426c7b4-7bfc-11ec-a552-080027e8eeed'), estado='RR', total_vendas=35598.05678620004)\n",
      "Row(id=UUID('f6a2a358-7bfb-11ec-9fa9-080027e8eeed'), estado='AK', total_vendas=36984.23330876673)\n",
      "Row(id=UUID('f673174d-7bfb-11ec-9e26-080027e8eeed'), estado='ID', total_vendas=17428.889547384915)\n",
      "Row(id=UUID('1438ba33-7bfc-11ec-a7c3-080027e8eeed'), estado='CE', total_vendas=26489.67286652318)\n",
      "Row(id=UUID('f668c563-7bfb-11ec-adfb-080027e8eeed'), estado='PI', total_vendas=60885.920881314254)\n",
      "Row(id=UUID('142d4550-7bfc-11ec-8995-080027e8eeed'), estado='ID', total_vendas=17428.889547384915)\n",
      "Row(id=UUID('14328ead-7bfc-11ec-ba41-080027e8eeed'), estado='ME', total_vendas=6244.371582805322)\n",
      "Row(id=UUID('142d117c-7bfc-11ec-8896-080027e8eeed'), estado='NH', total_vendas=2775.888499371694)\n",
      "Row(id=UUID('143a5469-7bfc-11ec-bb9a-080027e8eeed'), estado='RN', total_vendas=50219.69679177159)\n",
      "Row(id=UUID('1436a481-7bfc-11ec-8a34-080027e8eeed'), estado='SE', total_vendas=55301.186790120635)\n",
      "Row(id=UUID('1425a166-7bfc-11ec-9b13-080027e8eeed'), estado='NJ', total_vendas=6768.687499559493)\n",
      "Row(id=UUID('1432f9b9-7bfc-11ec-9638-080027e8eeed'), estado='WA', total_vendas=34642.72979383603)\n",
      "Row(id=UUID('f684b41e-7bfb-11ec-9013-080027e8eeed'), estado='ND', total_vendas=50636.861687212586)\n",
      "Row(id=UUID('1442ba9d-7bfc-11ec-8f20-080027e8eeed'), estado='FL', total_vendas=26477.984775716846)\n",
      "Row(id=UUID('f687a0af-7bfb-11ec-90a2-080027e8eeed'), estado='AL', total_vendas=43402.92456990082)\n",
      "Row(id=UUID('f676c880-7bfb-11ec-86be-080027e8eeed'), estado='VT', total_vendas=7279.1304098682795)\n",
      "Row(id=UUID('f6920640-7bfb-11ec-abd1-080027e8eeed'), estado='SE', total_vendas=55301.186790120635)\n",
      "Row(id=UUID('1422f12c-7bfc-11ec-96a9-080027e8eeed'), estado='PI', total_vendas=60885.920881314254)\n",
      "Row(id=UUID('f6a4f94d-7bfb-11ec-b645-080027e8eeed'), estado='PR', total_vendas=59732.90421633871)\n",
      "Row(id=UUID('f6983bc6-7bfb-11ec-9c1e-080027e8eeed'), estado='WV', total_vendas=18074.826617148246)\n",
      "Row(id=UUID('143634e9-7bfc-11ec-90cb-080027e8eeed'), estado='PA', total_vendas=35051.89459979438)\n",
      "Row(id=UUID('f6677c91-7bfb-11ec-8168-080027e8eeed'), estado='SC', total_vendas=78672.3796432496)\n",
      "Row(id=UUID('14323b31-7bfc-11ec-b9a6-080027e8eeed'), estado='PB', total_vendas=29211.249189820894)\n",
      "Row(id=UUID('14366c49-7bfc-11ec-a83c-080027e8eeed'), estado='BA', total_vendas=39054.741385205074)\n",
      "Row(id=UUID('f6a01397-7bfb-11ec-bb75-080027e8eeed'), estado='DF', total_vendas=69064.01586770012)\n",
      "Row(id=UUID('144786f4-7bfc-11ec-b47c-080027e8eeed'), estado='PR', total_vendas=59732.90421633871)\n",
      "Row(id=UUID('1432d057-7bfc-11ec-a6f2-080027e8eeed'), estado='ND', total_vendas=50636.861687212586)\n",
      "Row(id=UUID('14333233-7bfc-11ec-b779-080027e8eeed'), estado='RS', total_vendas=3346.731494837816)\n",
      "Row(id=UUID('f68977ed-7bfb-11ec-ad75-080027e8eeed'), estado='MG', total_vendas=32361.019951940285)\n",
      "Row(id=UUID('14321ccd-7bfc-11ec-a162-080027e8eeed'), estado='SP', total_vendas=45512.11043736533)\n",
      "Row(id=UUID('1440e5ea-7bfc-11ec-b8c3-080027e8eeed'), estado='DF', total_vendas=69064.01586770012)\n",
      "Row(id=UUID('1431d800-7bfc-11ec-810f-080027e8eeed'), estado='DE', total_vendas=1497.4754987330498)\n",
      "Row(id=UUID('f696ab12-7bfb-11ec-980d-080027e8eeed'), estado='RN', total_vendas=50219.69679177159)\n",
      "Row(id=UUID('142b336a-7bfc-11ec-ba8c-080027e8eeed'), estado='WY', total_vendas=21035.722877885597)\n",
      "Row(id=UUID('1429d661-7bfc-11ec-900b-080027e8eeed'), estado='KY', total_vendas=41082.72106482593)\n",
      "Row(id=UUID('f6a2675f-7bfb-11ec-9688-080027e8eeed'), estado='FL', total_vendas=26477.984775716846)\n",
      "Row(id=UUID('1435dae0-7bfc-11ec-8e5d-080027e8eeed'), estado='NM', total_vendas=12484.900805231957)\n",
      "Row(id=UUID('f685de9f-7bfb-11ec-ba3c-080027e8eeed'), estado='RS', total_vendas=3346.731494837816)\n",
      "Row(id=UUID('f68b58cc-7bfb-11ec-857c-080027e8eeed'), estado='TN', total_vendas=37629.65108567451)\n",
      "Row(id=UUID('143c0964-7bfc-11ec-b1ba-080027e8eeed'), estado='WV', total_vendas=18074.826617148246)\n",
      "Row(id=UUID('f66ea9ab-7bfb-11ec-96a9-080027e8eeed'), estado='AM', total_vendas=32415.70034927819)\n",
      "Row(id=UUID('1430f35c-7bfc-11ec-aab2-080027e8eeed'), estado='NC', total_vendas=48834.20587334776)\n",
      "Row(id=UUID('f67e3466-7bfb-11ec-8dcf-080027e8eeed'), estado='PB', total_vendas=29211.249189820894)\n",
      "Row(id=UUID('143f3042-7bfc-11ec-91aa-080027e8eeed'), estado='MA', total_vendas=13989.593692041351)\n",
      "Row(id=UUID('f67574e8-7bfb-11ec-bab5-080027e8eeed'), estado='MT', total_vendas=182916.780004783)\n",
      "Row(id=UUID('f69518a6-7bfb-11ec-baca-080027e8eeed'), estado='CE', total_vendas=26489.67286652318)\n",
      "Row(id=UUID('14325fb5-7bfc-11ec-9921-080027e8eeed'), estado='IL', total_vendas=46907.06806267226)\n",
      "Row(id=UUID('f6816c36-7bfb-11ec-a778-080027e8eeed'), estado='ME', total_vendas=6244.371582805322)\n",
      "Row(id=UUID('f67fba91-7bfb-11ec-8ebb-080027e8eeed'), estado='IL', total_vendas=46907.06806267226)\n",
      "Row(id=UUID('1434ec2a-7bfc-11ec-90cb-080027e8eeed'), estado='AL', total_vendas=43402.92456990082)\n",
      "Row(id=UUID('14318cee-7bfc-11ec-a8c2-080027e8eeed'), estado='MD', total_vendas=7031.354914905968)\n",
      "Row(id=UUID('f672cca7-7bfb-11ec-9bbb-080027e8eeed'), estado='NH', total_vendas=2775.888499371694)\n",
      "Row(id=UUID('14314fb9-7bfc-11ec-ae16-080027e8eeed'), estado='VT', total_vendas=7279.1304098682795)\n",
      "Row(id=UUID('1430a4fa-7bfc-11ec-bc90-080027e8eeed'), estado='MT', total_vendas=182916.780004783)\n"
     ]
    }
   ],
   "source": [
    "#Consultando a tabela\n",
    "linhas = session.execute('select * from TB_CONSULTA2')\n",
    "for linha in linhas:\n",
    "    print(linha)"
   ]
  },
  {
   "cell_type": "code",
   "execution_count": 63,
   "id": "4e4f621d",
   "metadata": {},
   "outputs": [],
   "source": [
    "#Aregação de consulta por média aritmética de desconto\n",
    "df_consulta3 = df_join.groupBy('estado', 'data_pedido') \\\n",
    ".agg({'desconto':'avg'}).select('estado', 'data_pedido', col('avg(desconto)').alias('media_desconto'))"
   ]
  },
  {
   "cell_type": "code",
   "execution_count": null,
   "id": "ca47e1e0",
   "metadata": {},
   "outputs": [],
   "source": []
  },
  {
   "cell_type": "code",
   "execution_count": 64,
   "id": "01e2be2e",
   "metadata": {
    "scrolled": true
   },
   "outputs": [
    {
     "name": "stdout",
     "output_type": "stream",
     "text": [
      "+------+-----------+-----------------+\n",
      "|estado|data_pedido|   media_desconto|\n",
      "+------+-----------+-----------------+\n",
      "|    SC| 2018-05-28|             null|\n",
      "|    DF| 2019-11-15|             null|\n",
      "|    SP| 2018-01-18|             null|\n",
      "|    MA| 2018-07-06|             null|\n",
      "|    MA| 2020-01-31|             null|\n",
      "|    MS| 2017-10-01|8.351780505676057|\n",
      "|    MT| 2017-03-04|7.672988389721389|\n",
      "|    KY| 2018-08-17|             null|\n",
      "|    BA| 2018-03-25|3.115455689329357|\n",
      "|    IN| 2018-03-19|             null|\n",
      "|    AM| 2019-03-13|             null|\n",
      "|    UT| 2018-11-30|             null|\n",
      "|    MT| 2018-04-11|             null|\n",
      "|    IN| 2019-02-28|             null|\n",
      "|    DF| 2018-11-02|             null|\n",
      "+------+-----------+-----------------+\n",
      "only showing top 15 rows\n",
      "\n"
     ]
    }
   ],
   "source": [
    "df_consulta3.show(15)"
   ]
  },
  {
   "cell_type": "code",
   "execution_count": null,
   "id": "c9cbba5e",
   "metadata": {},
   "outputs": [],
   "source": []
  },
  {
   "cell_type": "code",
   "execution_count": 58,
   "id": "868fa3ea",
   "metadata": {},
   "outputs": [],
   "source": [
    "#Limpeza de dados\n",
    "from pyspark.sql.functions import to_date"
   ]
  },
  {
   "cell_type": "code",
   "execution_count": 60,
   "id": "234e0906",
   "metadata": {},
   "outputs": [],
   "source": [
    "#Ajusta coluna de data\n",
    "df_join=df_join.withColumn('data_pedido', to_date(df_join.data_pedido, 'yyyy-mm-dd'))"
   ]
  },
  {
   "cell_type": "code",
   "execution_count": 61,
   "id": "6d0d4c7a",
   "metadata": {},
   "outputs": [
    {
     "name": "stdout",
     "output_type": "stream",
     "text": [
      "+---------+-----------+-----------------+----------+----------+------------------+-------+------------------+----------+----------+------------+--------------------+---------------+----------+--------------------+--------------------+-----------------+-----------+--------------------+-------+------+-----+\n",
      "|id_pedido|data_pedido|         desconto|id_produto|quantidade|          subtotal|imposto|             total|id_cliente|id_cliente|        nome|            endereco|data_nascimento|    cidade|       data_cadastro|               email|         latitude|  longitude|               senha|  fonte|estado|  zip|\n",
      "+---------+-----------+-----------------+----------+----------+------------------+-------+------------------+----------+----------+------------+--------------------+---------------+----------+--------------------+--------------------+-----------------+-----------+--------------------+-------+------+-----+\n",
      "|        1| 2019-02-11|             null|        14|         2|37.648145389078365|   2.07|39.718145389078366|         1|         1|Hudson Borer|9611-9809 West Ro...|     1986-12-12|Wood River|2017-10-06 17:04:...|borer-hudson@test...|40.71314890000001|-98.5259864|ccca881f-3e4b-4e5...|Twitter|    SP|68883|\n",
      "|        2| 2018-05-14|             null|       123|         3|110.93145648834248|    6.1| 117.0376564084763|         1|         1|Hudson Borer|9611-9809 West Ro...|     1986-12-12|Wood River|2017-10-06 17:04:...|borer-hudson@test...|40.71314890000001|-98.5259864|ccca881f-3e4b-4e5...|Twitter|    SP|68883|\n",
      "|        3| 2019-12-06|6.416679208849759|       105|         2|52.723521442619514|    2.9| 55.62208681964182|         1|         1|Hudson Borer|9611-9809 West Ro...|     1986-12-12|Wood River|2017-10-06 17:04:...|borer-hudson@test...|40.71314890000001|-98.5259864|ccca881f-3e4b-4e5...|Twitter|    SP|68883|\n",
      "|        4| 2019-08-22|             null|        94|         6|109.21864156655383|   6.01| 115.2207354961295|         1|         1|Hudson Borer|9611-9809 West Ro...|     1986-12-12|Wood River|2017-10-06 17:04:...|borer-hudson@test...|40.71314890000001|-98.5259864|ccca881f-3e4b-4e5...|Twitter|    SP|68883|\n",
      "|        5| 2018-10-09|             null|       132|         5|127.88197029833711|   7.03|134.94192935296473|         1|         1|Hudson Borer|9611-9809 West Ro...|     1986-12-12|Wood River|2017-10-06 17:04:...|borer-hudson@test...|40.71314890000001|-98.5259864|ccca881f-3e4b-4e5...|Twitter|    SP|68883|\n",
      "+---------+-----------+-----------------+----------+----------+------------------+-------+------------------+----------+----------+------------+--------------------+---------------+----------+--------------------+--------------------+-----------------+-----------+--------------------+-------+------+-----+\n",
      "only showing top 5 rows\n",
      "\n"
     ]
    }
   ],
   "source": [
    "df_join.show(5)"
   ]
  },
  {
   "cell_type": "code",
   "execution_count": 104,
   "id": "70dc9437",
   "metadata": {},
   "outputs": [
    {
     "name": "stdout",
     "output_type": "stream",
     "text": [
      "+------+-----------+--------------+\n",
      "|estado|data_pedido|media_desconto|\n",
      "+------+-----------+--------------+\n",
      "|    SC| 2018-05-28|          null|\n",
      "|    DF| 2019-11-15|          null|\n",
      "|    SP| 2018-01-18|          null|\n",
      "|    MA| 2018-07-06|          null|\n",
      "|    MA| 2020-01-31|          null|\n",
      "+------+-----------+--------------+\n",
      "only showing top 5 rows\n",
      "\n"
     ]
    }
   ],
   "source": [
    "#Carregando consulta 3\n",
    "df_consulta3.show(5)"
   ]
  },
  {
   "cell_type": "code",
   "execution_count": 105,
   "id": "b2fe04a7",
   "metadata": {},
   "outputs": [],
   "source": [
    "#Coletando todas as linhas do dataframe\n",
    "rows3 = df_consulta3.collect()"
   ]
  },
  {
   "cell_type": "code",
   "execution_count": 106,
   "id": "b3030816",
   "metadata": {},
   "outputs": [],
   "source": [
    "#Inserindo registro\n",
    "for i in rows3:\n",
    "    \n",
    "    if i.media_desconto==None:  \n",
    "        session.execute(\n",
    "            \"\"\"\n",
    "            INSERT INTO TB_CONSULTA3(ID, ESTADO, DATA_PEDIDO, MEDIA_DESCONTO)\n",
    "            VALUES(%s, %s, %s, %s)\n",
    "            \"\"\",\n",
    "            (uuid.uuid1(), i.estado, i.data_pedido, 0))\n",
    "    else:\n",
    "        \n",
    "        session.execute(\n",
    "            \"\"\"\n",
    "            INSERT INTO TB_CONSULTA3(ID, ESTADO, DATA_PEDIDO, MEDIA_DESCONTO)\n",
    "            VALUES(%s, %s, %s, %s)\n",
    "            \"\"\",\n",
    "            (uuid.uuid1(), i.estado, i.data_pedido, i.media_desconto))"
   ]
  },
  {
   "cell_type": "code",
   "execution_count": 107,
   "id": "0f000b7a",
   "metadata": {},
   "outputs": [
    {
     "name": "stdout",
     "output_type": "stream",
     "text": [
      "Row(id=UUID('95936261-7bff-11ec-9cd4-080027e8eeed'), data_pedido=Date(17177), estado='AP', media_desconto=0.0)\n",
      "Row(id=UUID('961dfbd0-7bff-11ec-8b2f-080027e8eeed'), data_pedido=Date(17462), estado='NC', media_desconto=8.324442762605162)\n",
      "Row(id=UUID('956885ca-7bff-11ec-8d4d-080027e8eeed'), data_pedido=Date(17505), estado='RR', media_desconto=0.0)\n",
      "Row(id=UUID('96ff8841-7bff-11ec-870e-080027e8eeed'), data_pedido=Date(17591), estado='MT', media_desconto=0.0)\n",
      "Row(id=UUID('94961112-7bff-11ec-968e-080027e8eeed'), data_pedido=Date(17466), estado='PB', media_desconto=0.0)\n",
      "Row(id=UUID('8f85ce43-7bff-11ec-98f5-080027e8eeed'), data_pedido=Date(18241), estado='PB', media_desconto=0.0)\n",
      "Row(id=UUID('954b4870-7bff-11ec-816c-080027e8eeed'), data_pedido=Date(18366), estado='RN', media_desconto=0.0)\n",
      "Row(id=UUID('980a2334-7bff-11ec-8bd3-080027e8eeed'), data_pedido=Date(17347), estado='RR', media_desconto=0.0)\n",
      "Row(id=UUID('9565e494-7bff-11ec-924b-080027e8eeed'), data_pedido=Date(17724), estado='PA', media_desconto=0.0)\n",
      "Row(id=UUID('9026a820-7bff-11ec-931b-080027e8eeed'), data_pedido=Date(18124), estado='KY', media_desconto=0.0)\n",
      "Row(id=UUID('97ba65cb-7bff-11ec-a327-080027e8eeed'), data_pedido=Date(17928), estado='FL', media_desconto=0.0)\n",
      "Row(id=UUID('96bd9fba-7bff-11ec-8661-080027e8eeed'), data_pedido=Date(18115), estado='WV', media_desconto=0.0)\n",
      "Row(id=UUID('97bb0e43-7bff-11ec-b756-080027e8eeed'), data_pedido=Date(18368), estado='OK', media_desconto=0.0)\n",
      "Row(id=UUID('96e17c89-7bff-11ec-bbc5-080027e8eeed'), data_pedido=Date(17950), estado='RJ', media_desconto=0.0)\n",
      "Row(id=UUID('93e2ae56-7bff-11ec-88e1-080027e8eeed'), data_pedido=Date(18347), estado='AK', media_desconto=0.0)\n",
      "Row(id=UUID('92dc52f4-7bff-11ec-bc64-080027e8eeed'), data_pedido=Date(18202), estado='AP', media_desconto=0.0)\n",
      "Row(id=UUID('9648ce90-7bff-11ec-95ff-080027e8eeed'), data_pedido=Date(17932), estado='BA', media_desconto=0.0)\n",
      "Row(id=UUID('957bfaba-7bff-11ec-b456-080027e8eeed'), data_pedido=Date(17962), estado='WY', media_desconto=0.0)\n",
      "Row(id=UUID('90426dd8-7bff-11ec-8b29-080027e8eeed'), data_pedido=Date(18232), estado='MT', media_desconto=0.0)\n",
      "Row(id=UUID('95e1103c-7bff-11ec-b7d4-080027e8eeed'), data_pedido=Date(17654), estado='FL', media_desconto=0.0)\n",
      "Row(id=UUID('9464afab-7bff-11ec-b036-080027e8eeed'), data_pedido=Date(17401), estado='CE', media_desconto=0.0)\n",
      "Row(id=UUID('9001cd5c-7bff-11ec-be08-080027e8eeed'), data_pedido=Date(17673), estado='TN', media_desconto=0.0)\n",
      "Row(id=UUID('97970cb6-7bff-11ec-8005-080027e8eeed'), data_pedido=Date(17031), estado='DF', media_desconto=0.0)\n",
      "Row(id=UUID('96560795-7bff-11ec-b9bd-080027e8eeed'), data_pedido=Date(17528), estado='AL', media_desconto=0.0)\n",
      "Row(id=UUID('90503d08-7bff-11ec-9e9a-080027e8eeed'), data_pedido=Date(17904), estado='CE', media_desconto=0.0)\n"
     ]
    }
   ],
   "source": [
    "#Consultando a tabela\n",
    "linhas = session.execute('select * from TB_CONSULTA3 limit 25;')\n",
    "for linha in linhas:\n",
    "    print(linha)"
   ]
  },
  {
   "cell_type": "code",
   "execution_count": null,
   "id": "5ef0a1d1",
   "metadata": {},
   "outputs": [],
   "source": [
    "#Fim"
   ]
  }
 ],
 "metadata": {
  "kernelspec": {
   "display_name": "Python 3 (ipykernel)",
   "language": "python",
   "name": "python3"
  },
  "language_info": {
   "codemirror_mode": {
    "name": "ipython",
    "version": 3
   },
   "file_extension": ".py",
   "mimetype": "text/x-python",
   "name": "python",
   "nbconvert_exporter": "python",
   "pygments_lexer": "ipython3",
   "version": "3.9.7"
  }
 },
 "nbformat": 4,
 "nbformat_minor": 5
}
